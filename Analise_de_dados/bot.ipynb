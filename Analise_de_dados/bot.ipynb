{
 "cells": [
  {
   "cell_type": "markdown",
   "id": "eb36d0fe",
   "metadata": {},
   "source": [
    "<h1>1º Importar Base de Dados</h1>"
   ]
  },
  {
   "cell_type": "code",
   "execution_count": 7,
   "id": "770beddd",
   "metadata": {},
   "outputs": [
    {
     "name": "stdout",
     "output_type": "stream",
     "text": [
      "<class 'pandas.core.frame.DataFrame'>\n",
      "Int64Index: 5974 entries, 0 to 5985\n",
      "Data columns (total 21 columns):\n",
      " #   Column                  Non-Null Count  Dtype  \n",
      "---  ------                  --------------  -----  \n",
      " 0   IDCliente               5974 non-null   object \n",
      " 1   Genero                  5974 non-null   object \n",
      " 2   Aposentado              5974 non-null   int64  \n",
      " 3   Casado                  5974 non-null   object \n",
      " 4   Dependentes             5974 non-null   object \n",
      " 5   MesesComoCliente        5974 non-null   int64  \n",
      " 6   ServicoTelefone         5974 non-null   object \n",
      " 7   MultiplasLinhas         5974 non-null   object \n",
      " 8   ServicoInternet         5974 non-null   object \n",
      " 9   ServicoSegurancaOnline  5974 non-null   object \n",
      " 10  ServicoBackupOnline     5974 non-null   object \n",
      " 11  ProtecaoEquipamento     5974 non-null   object \n",
      " 12  ServicoSuporteTecnico   5974 non-null   object \n",
      " 13  ServicoStreamingTV      5974 non-null   object \n",
      " 14  ServicoFilmes           5974 non-null   object \n",
      " 15  TipoContrato            5974 non-null   object \n",
      " 16  FaturaDigital           5974 non-null   object \n",
      " 17  FormaPagamento          5974 non-null   object \n",
      " 18  ValorMensal             5974 non-null   float64\n",
      " 19  TotalGasto              5974 non-null   float64\n",
      " 20  Churn                   5974 non-null   object \n",
      "dtypes: float64(2), int64(2), object(17)\n",
      "memory usage: 1.0+ MB\n"
     ]
    },
    {
     "data": {
      "text/plain": [
       "None"
      ]
     },
     "metadata": {},
     "output_type": "display_data"
    }
   ],
   "source": [
    "import pandas as pd\n",
    "\n",
    "table = pd.read_csv(\"telecom_users.csv\")\n",
    "\n",
    "table = table.drop(\"Unnamed: 0\", axis=1)\n",
    "\n",
    "table[\"TotalGasto\"] = pd.to_numeric(table[\"TotalGasto\"], errors=\"coerce\")\n",
    "table = table.dropna(how=\"all\", axis=1)\n",
    "table = table.dropna(how = \"any\", axis=0)\n",
    "\n",
    "display(table.info())"
   ]
  },
  {
   "cell_type": "code",
   "execution_count": null,
   "id": "0e8460d9",
   "metadata": {},
   "outputs": [],
   "source": []
  }
 ],
 "metadata": {
  "kernelspec": {
   "display_name": "Python 3 (ipykernel)",
   "language": "python",
   "name": "python3"
  },
  "language_info": {
   "codemirror_mode": {
    "name": "ipython",
    "version": 3
   },
   "file_extension": ".py",
   "mimetype": "text/x-python",
   "name": "python",
   "nbconvert_exporter": "python",
   "pygments_lexer": "ipython3",
   "version": "3.9.7"
  }
 },
 "nbformat": 4,
 "nbformat_minor": 5
}
