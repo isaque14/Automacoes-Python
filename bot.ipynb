{
 "cells": [
  {
   "cell_type": "code",
   "execution_count": 37,
   "id": "bcc9fb9e",
   "metadata": {},
   "outputs": [],
   "source": [
    "import pyautogui\n",
    "import pyperclip\n",
    "import time\n",
    "\n",
    "pyautogui.PAUSE = 0.5\n",
    "\n",
    "\n",
    "pyautogui.press(\"win\")\n",
    "pyautogui.write(\"brave\")\n",
    "pyautogui.press(\"enter\")\n",
    "\n",
    "pyperclip.copy(\"https://drive.google.com/drive/folders/149xknr9JvrlEnhNWO49zPcw0PW5icxga?usp=sharing\")\n",
    "pyautogui.hotkey(\"ctrl\", \"v\")\n",
    "pyautogui.press(\"enter\")\n",
    "\n",
    "time.sleep(10)\n",
    "\n",
    "pyautogui.click(x=368, y=420, clicks=2)\n",
    "time.sleep(5)\n",
    "pyautogui.click(x=379, y=481)\n",
    "pyautogui.click(x=1163, y=184)\n",
    "pyautogui.click(x=938, y=587)\n",
    "time.sleep(5)\n",
    "#pyautogui.click(x=356, y=47)\n",
    "#pyperclip.copy(\"Downloads\")\n",
    "#pyautogui.hotkey(\"ctrl\", \"v\")\n",
    "#pyautogui.press(\"enter\")\n",
    "\n",
    "pyautogui.click(x=530, y=444)"
   ]
  },
  {
   "cell_type": "code",
   "execution_count": 32,
   "id": "4756ce66",
   "metadata": {},
   "outputs": [
    {
     "data": {
      "text/plain": [
       "Point(x=530, y=444)"
      ]
     },
     "execution_count": 32,
     "metadata": {},
     "output_type": "execute_result"
    }
   ],
   "source": [
    "time.sleep(30)\n",
    "pyautogui.position()"
   ]
  }
 ],
 "metadata": {
  "kernelspec": {
   "display_name": "Python 3 (ipykernel)",
   "language": "python",
   "name": "python3"
  },
  "language_info": {
   "codemirror_mode": {
    "name": "ipython",
    "version": 3
   },
   "file_extension": ".py",
   "mimetype": "text/x-python",
   "name": "python",
   "nbconvert_exporter": "python",
   "pygments_lexer": "ipython3",
   "version": "3.9.7"
  }
 },
 "nbformat": 4,
 "nbformat_minor": 5
}
